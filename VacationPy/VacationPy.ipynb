{
 "cells": [
  {
   "cell_type": "markdown",
   "metadata": {},
   "source": [
    "# VacationPy\n",
    "----\n",
    "\n",
    "#### Note\n",
    "* Keep an eye on your API usage. Use https://developers.google.com/maps/reporting/gmp-reporting as reference for how to monitor your usage and billing.\n",
    "\n",
    "* Instructions have been included for each segment. You do not have to follow them exactly, but they are included to help you think through the steps."
   ]
  },
  {
   "cell_type": "code",
   "execution_count": 1,
   "metadata": {},
   "outputs": [],
   "source": [
    "# Dependencies and Setup\n",
    "import matplotlib.pyplot as plt\n",
    "import pandas as pd\n",
    "import numpy as np\n",
    "import requests\n",
    "import gmaps\n",
    "import os\n",
    "\n",
    "# Import API key\n",
    "from api_keys import g_key"
   ]
  },
  {
   "cell_type": "markdown",
   "metadata": {},
   "source": [
    "### Store Part I results into DataFrame\n",
    "* Load the csv exported in Part I to a DataFrame"
   ]
  },
  {
   "cell_type": "code",
   "execution_count": 2,
   "metadata": {},
   "outputs": [
    {
     "data": {
      "text/html": [
       "<div>\n",
       "<style scoped>\n",
       "    .dataframe tbody tr th:only-of-type {\n",
       "        vertical-align: middle;\n",
       "    }\n",
       "\n",
       "    .dataframe tbody tr th {\n",
       "        vertical-align: top;\n",
       "    }\n",
       "\n",
       "    .dataframe thead th {\n",
       "        text-align: right;\n",
       "    }\n",
       "</style>\n",
       "<table border=\"1\" class=\"dataframe\">\n",
       "  <thead>\n",
       "    <tr style=\"text-align: right;\">\n",
       "      <th></th>\n",
       "      <th>Unnamed: 0</th>\n",
       "      <th>City</th>\n",
       "      <th>Cloudiness</th>\n",
       "      <th>Country</th>\n",
       "      <th>Date</th>\n",
       "      <th>Humidity</th>\n",
       "      <th>Latitude</th>\n",
       "      <th>Longitude</th>\n",
       "      <th>Max Temp</th>\n",
       "      <th>Wind Speed</th>\n",
       "    </tr>\n",
       "  </thead>\n",
       "  <tbody>\n",
       "    <tr>\n",
       "      <th>0</th>\n",
       "      <td>0</td>\n",
       "      <td>lebu</td>\n",
       "      <td>12.0</td>\n",
       "      <td>CL</td>\n",
       "      <td>1.620542e+09</td>\n",
       "      <td>91.0</td>\n",
       "      <td>-37.6167</td>\n",
       "      <td>-73.6500</td>\n",
       "      <td>52.88</td>\n",
       "      <td>12.73</td>\n",
       "    </tr>\n",
       "    <tr>\n",
       "      <th>1</th>\n",
       "      <td>1</td>\n",
       "      <td>puerto ayora</td>\n",
       "      <td>59.0</td>\n",
       "      <td>EC</td>\n",
       "      <td>1.620542e+09</td>\n",
       "      <td>93.0</td>\n",
       "      <td>-0.7393</td>\n",
       "      <td>-90.3518</td>\n",
       "      <td>75.00</td>\n",
       "      <td>5.01</td>\n",
       "    </tr>\n",
       "    <tr>\n",
       "      <th>2</th>\n",
       "      <td>2</td>\n",
       "      <td>faanui</td>\n",
       "      <td>100.0</td>\n",
       "      <td>PF</td>\n",
       "      <td>1.620542e+09</td>\n",
       "      <td>74.0</td>\n",
       "      <td>-16.4833</td>\n",
       "      <td>-151.7500</td>\n",
       "      <td>80.60</td>\n",
       "      <td>8.48</td>\n",
       "    </tr>\n",
       "    <tr>\n",
       "      <th>3</th>\n",
       "      <td>3</td>\n",
       "      <td>upernavik</td>\n",
       "      <td>100.0</td>\n",
       "      <td>GL</td>\n",
       "      <td>1.620542e+09</td>\n",
       "      <td>96.0</td>\n",
       "      <td>72.7868</td>\n",
       "      <td>-56.1549</td>\n",
       "      <td>25.05</td>\n",
       "      <td>3.38</td>\n",
       "    </tr>\n",
       "    <tr>\n",
       "      <th>4</th>\n",
       "      <td>4</td>\n",
       "      <td>atuona</td>\n",
       "      <td>11.0</td>\n",
       "      <td>PF</td>\n",
       "      <td>1.620542e+09</td>\n",
       "      <td>71.0</td>\n",
       "      <td>-9.8000</td>\n",
       "      <td>-139.0333</td>\n",
       "      <td>80.28</td>\n",
       "      <td>17.63</td>\n",
       "    </tr>\n",
       "    <tr>\n",
       "      <th>...</th>\n",
       "      <td>...</td>\n",
       "      <td>...</td>\n",
       "      <td>...</td>\n",
       "      <td>...</td>\n",
       "      <td>...</td>\n",
       "      <td>...</td>\n",
       "      <td>...</td>\n",
       "      <td>...</td>\n",
       "      <td>...</td>\n",
       "      <td>...</td>\n",
       "    </tr>\n",
       "    <tr>\n",
       "      <th>565</th>\n",
       "      <td>565</td>\n",
       "      <td>solovetskiy</td>\n",
       "      <td>98.0</td>\n",
       "      <td>CN</td>\n",
       "      <td>1.620543e+09</td>\n",
       "      <td>52.0</td>\n",
       "      <td>23.2281</td>\n",
       "      <td>110.8261</td>\n",
       "      <td>91.45</td>\n",
       "      <td>9.01</td>\n",
       "    </tr>\n",
       "    <tr>\n",
       "      <th>566</th>\n",
       "      <td>566</td>\n",
       "      <td>windhoek</td>\n",
       "      <td>100.0</td>\n",
       "      <td>RU</td>\n",
       "      <td>1.620543e+09</td>\n",
       "      <td>97.0</td>\n",
       "      <td>61.3314</td>\n",
       "      <td>40.0858</td>\n",
       "      <td>37.90</td>\n",
       "      <td>7.54</td>\n",
       "    </tr>\n",
       "    <tr>\n",
       "      <th>567</th>\n",
       "      <td>567</td>\n",
       "      <td>caravelas</td>\n",
       "      <td>100.0</td>\n",
       "      <td>CA</td>\n",
       "      <td>1.620543e+09</td>\n",
       "      <td>80.0</td>\n",
       "      <td>49.8834</td>\n",
       "      <td>-106.5512</td>\n",
       "      <td>35.60</td>\n",
       "      <td>6.91</td>\n",
       "    </tr>\n",
       "    <tr>\n",
       "      <th>568</th>\n",
       "      <td>568</td>\n",
       "      <td>mayumba</td>\n",
       "      <td>42.0</td>\n",
       "      <td>RU</td>\n",
       "      <td>1.620543e+09</td>\n",
       "      <td>47.0</td>\n",
       "      <td>60.9058</td>\n",
       "      <td>61.5186</td>\n",
       "      <td>67.48</td>\n",
       "      <td>4.29</td>\n",
       "    </tr>\n",
       "    <tr>\n",
       "      <th>569</th>\n",
       "      <td>569</td>\n",
       "      <td>ilulissat</td>\n",
       "      <td>99.0</td>\n",
       "      <td>RU</td>\n",
       "      <td>1.620543e+09</td>\n",
       "      <td>40.0</td>\n",
       "      <td>60.0625</td>\n",
       "      <td>71.4789</td>\n",
       "      <td>59.31</td>\n",
       "      <td>6.62</td>\n",
       "    </tr>\n",
       "  </tbody>\n",
       "</table>\n",
       "<p>570 rows × 10 columns</p>\n",
       "</div>"
      ],
      "text/plain": [
       "     Unnamed: 0          City  Cloudiness Country          Date  Humidity  \\\n",
       "0             0          lebu        12.0      CL  1.620542e+09      91.0   \n",
       "1             1  puerto ayora        59.0      EC  1.620542e+09      93.0   \n",
       "2             2        faanui       100.0      PF  1.620542e+09      74.0   \n",
       "3             3     upernavik       100.0      GL  1.620542e+09      96.0   \n",
       "4             4        atuona        11.0      PF  1.620542e+09      71.0   \n",
       "..          ...           ...         ...     ...           ...       ...   \n",
       "565         565   solovetskiy        98.0      CN  1.620543e+09      52.0   \n",
       "566         566      windhoek       100.0      RU  1.620543e+09      97.0   \n",
       "567         567     caravelas       100.0      CA  1.620543e+09      80.0   \n",
       "568         568       mayumba        42.0      RU  1.620543e+09      47.0   \n",
       "569         569     ilulissat        99.0      RU  1.620543e+09      40.0   \n",
       "\n",
       "     Latitude  Longitude  Max Temp  Wind Speed  \n",
       "0    -37.6167   -73.6500     52.88       12.73  \n",
       "1     -0.7393   -90.3518     75.00        5.01  \n",
       "2    -16.4833  -151.7500     80.60        8.48  \n",
       "3     72.7868   -56.1549     25.05        3.38  \n",
       "4     -9.8000  -139.0333     80.28       17.63  \n",
       "..        ...        ...       ...         ...  \n",
       "565   23.2281   110.8261     91.45        9.01  \n",
       "566   61.3314    40.0858     37.90        7.54  \n",
       "567   49.8834  -106.5512     35.60        6.91  \n",
       "568   60.9058    61.5186     67.48        4.29  \n",
       "569   60.0625    71.4789     59.31        6.62  \n",
       "\n",
       "[570 rows x 10 columns]"
      ]
     },
     "execution_count": 2,
     "metadata": {},
     "output_type": "execute_result"
    }
   ],
   "source": [
    "file_path = \"../WeatherPy/cities_data_file.csv\"\n",
    "cities_weather_df = pd.read_csv(file_path)\n",
    "cities_weather_df"
   ]
  },
  {
   "cell_type": "markdown",
   "metadata": {},
   "source": [
    "### Humidity Heatmap\n",
    "* Configure gmaps.\n",
    "* Use the Lat and Lng as locations and Humidity as the weight.\n",
    "* Add Heatmap layer to map."
   ]
  },
  {
   "cell_type": "code",
   "execution_count": 3,
   "metadata": {},
   "outputs": [],
   "source": [
    "gmaps.configure(g_key)"
   ]
  },
  {
   "cell_type": "code",
   "execution_count": 7,
   "metadata": {},
   "outputs": [],
   "source": [
    "locations = cities_weather_df[[\"Latitude\", \"Longitude\"]]\n",
    "humidity = cities_weather_df[\"Humidity\"].astype(float)\n",
    "max_humidity = max(humidity)"
   ]
  },
  {
   "cell_type": "code",
   "execution_count": 15,
   "metadata": {},
   "outputs": [
    {
     "data": {
      "application/vnd.jupyter.widget-view+json": {
       "model_id": "30ff438c49454cf2bc6da359606ae9d3",
       "version_major": 2,
       "version_minor": 0
      },
      "text/plain": [
       "Figure(layout=FigureLayout(height='420px'))"
      ]
     },
     "metadata": {},
     "output_type": "display_data"
    }
   ],
   "source": [
    "fig = gmaps.figure()\n",
    "heat_layer = gmaps.heatmap_layer(locations, weights=humidity, \n",
    "                                 dissipating=False, max_intensity=max_humidity, \n",
    "                                 point_radius=3.5)\n",
    "fig.add_layer(heat_layer)\n",
    "fig"
   ]
  },
  {
   "cell_type": "markdown",
   "metadata": {},
   "source": [
    "### Create new DataFrame fitting weather criteria\n",
    "* Narrow down the cities to fit weather conditions.\n",
    "* Drop any rows will null values."
   ]
  },
  {
   "cell_type": "code",
   "execution_count": null,
   "metadata": {},
   "outputs": [],
   "source": []
  },
  {
   "cell_type": "markdown",
   "metadata": {},
   "source": [
    "### Hotel Map\n",
    "* Store into variable named `hotel_df`.\n",
    "* Add a \"Hotel Name\" column to the DataFrame.\n",
    "* Set parameters to search for hotels with 5000 meters.\n",
    "* Hit the Google Places API for each city's coordinates.\n",
    "* Store the first Hotel result into the DataFrame.\n",
    "* Plot markers on top of the heatmap."
   ]
  },
  {
   "cell_type": "code",
   "execution_count": null,
   "metadata": {},
   "outputs": [],
   "source": []
  },
  {
   "cell_type": "code",
   "execution_count": null,
   "metadata": {},
   "outputs": [],
   "source": []
  },
  {
   "cell_type": "code",
   "execution_count": null,
   "metadata": {},
   "outputs": [],
   "source": [
    "# NOTE: Do not change any of the code in this cell\n",
    "\n",
    "# Using the template add the hotel marks to the heatmap\n",
    "info_box_template = \"\"\"\n",
    "<dl>\n",
    "<dt>Name</dt><dd>{Hotel Name}</dd>\n",
    "<dt>City</dt><dd>{City}</dd>\n",
    "<dt>Country</dt><dd>{Country}</dd>\n",
    "</dl>\n",
    "\"\"\"\n",
    "# Store the DataFrame Row\n",
    "# NOTE: be sure to update with your DataFrame name\n",
    "hotel_info = [info_box_template.format(**row) for index, row in hotel_df.iterrows()]\n",
    "locations = hotel_df[[\"Lat\", \"Lng\"]]"
   ]
  },
  {
   "cell_type": "code",
   "execution_count": null,
   "metadata": {},
   "outputs": [],
   "source": [
    "# Add marker layer ontop of heat map\n",
    "\n",
    "\n",
    "# Display figure\n"
   ]
  },
  {
   "cell_type": "code",
   "execution_count": null,
   "metadata": {},
   "outputs": [],
   "source": []
  }
 ],
 "metadata": {
  "kernelspec": {
   "display_name": "Python [conda env:PythonData] *",
   "language": "python",
   "name": "conda-env-PythonData-py"
  },
  "language_info": {
   "codemirror_mode": {
    "name": "ipython",
    "version": 3
   },
   "file_extension": ".py",
   "mimetype": "text/x-python",
   "name": "python",
   "nbconvert_exporter": "python",
   "pygments_lexer": "ipython3",
   "version": "3.6.10"
  },
  "latex_envs": {
   "LaTeX_envs_menu_present": true,
   "autoclose": false,
   "autocomplete": true,
   "bibliofile": "biblio.bib",
   "cite_by": "apalike",
   "current_citInitial": 1,
   "eqLabelWithNumbers": true,
   "eqNumInitial": 1,
   "hotkeys": {
    "equation": "Ctrl-E",
    "itemize": "Ctrl-I"
   },
   "labels_anchors": false,
   "latex_user_defs": false,
   "report_style_numbering": false,
   "user_envs_cfg": false
  }
 },
 "nbformat": 4,
 "nbformat_minor": 4
}
